{
 "cells": [
  {
   "cell_type": "code",
   "execution_count": null,
   "id": "64d0ac61",
   "metadata": {},
   "outputs": [],
   "source": [
    "\"\"\"\n",
    "ECGR 5105 - Intro to Machine Learning\n",
    "Final Project\n",
    "Projection of GDP Growth in Conjunction with Internet Accessibility\n",
    "Phillip Harmon - pharmon@uncc.edu\n",
    "\"\"\";\n"
   ]
  },
  {
   "cell_type": "code",
   "execution_count": 1,
   "id": "cfcbf8b4",
   "metadata": {},
   "outputs": [],
   "source": [
    "#Training Loop Function\n",
    "def training_loop(x_t, y_t, x_v, y_v, model, loss_function, optimizer, epochs):\n",
    "    training_loss = []\n",
    "    validation_loss = []\n",
    "    \n",
    "    for epoch in range(1, epochs + 1):\n",
    "        \n",
    "        loss_t = loss_function( model(x_t), y_t)\n",
    "        loss_v = loss_function( model(x_v), y_v)\n",
    "        \n",
    "        optimizer.zero_grad()\n",
    "        loss_t.backward()\n",
    "        optimizer.step()\n",
    "        \n",
    "        training_loss.append(float(loss_t))\n",
    "        validation_loss.append(float(loss_v))\n",
    "        \n",
    "        if epoch <= 3 or epoch % 50 == 0:\n",
    "            print('Epoch {} | Training Loss = {} | Validation Loss = {}'.format(epoch, loss_t, loss_v))\n",
    "    \n",
    "    return training_loss, validation_loss\n"
   ]
  },
  {
   "cell_type": "code",
   "execution_count": null,
   "id": "29d923db",
   "metadata": {},
   "outputs": [],
   "source": [
    "#Define Constructs\n",
    "epochs = 200\n",
    "learn_rate = 1e-3\n",
    "neural_net = nn.Sequential(OrderedDict([\n",
    "    ('Layer_1_Model', nn.Linear(5,8)),\n",
    "    ('Layer_1_Activation', nn.Tanh()),\n",
    "    ('Layer_2_Model', nn.Linear(5,8)),\n",
    "    ('Layer_2_Activation', nn.Tanh()),\n",
    "    ('Layer_3_Model', nn.Linear(5,8)),\n",
    "    ('Layer_3_Activation', nn.Tanh()),\n",
    "    ('Output_Model', nn.Linear(8,1))\n",
    "    ]))\n",
    "optimizer = optim.Adam(neural_net.parameters(), lr=learn_rate)\n",
    "loss_function = nn.MSELoss\n"
   ]
  }
 ],
 "metadata": {
  "kernelspec": {
   "display_name": "Python 3 (ipykernel)",
   "language": "python",
   "name": "python3"
  },
  "language_info": {
   "codemirror_mode": {
    "name": "ipython",
    "version": 3
   },
   "file_extension": ".py",
   "mimetype": "text/x-python",
   "name": "python",
   "nbconvert_exporter": "python",
   "pygments_lexer": "ipython3",
   "version": "3.9.12"
  }
 },
 "nbformat": 4,
 "nbformat_minor": 5
}
