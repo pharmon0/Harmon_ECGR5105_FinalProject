{
 "cells": [
  {
   "cell_type": "code",
   "execution_count": 1,
   "id": "0dcf78f4",
   "metadata": {},
   "outputs": [],
   "source": [
    "\"\"\"\n",
    "ECGR 5105 - Intro to Machine Learning\n",
    "Final Project\n",
    "Projection of GDP Growth in Conjunction with Internet Accessibility\n",
    "Phillip Harmon - pharmon@uncc.edu\n",
    "\"\"\";\n"
   ]
  },
  {
   "cell_type": "code",
   "execution_count": 2,
   "id": "44e97a45",
   "metadata": {},
   "outputs": [],
   "source": [
    "import numpy as np\n",
    "import matplotlib.pyplot as plt\n",
    "import pandas as pd\n",
    "import torch\n",
    "from sklearn.preprocessing import MinMaxScaler, StandardScaler\n",
    "from torch import optim, nn\n",
    "from collections import OrderedDict\n"
   ]
  },
  {
   "cell_type": "code",
   "execution_count": 3,
   "id": "197f8cdd",
   "metadata": {},
   "outputs": [
    {
     "data": {
      "text/plain": [
       "\"\\nneural_net = nn.Sequential(OrderedDict([\\n    ('Layer_1_Model     ', nn.Linear(4,16)),\\n    ('Layer_1_Activation', nn.Tanh()),\\n    ('Layer_2_Model     ', nn.Linear(16,13)),\\n    ('Layer_2_Activation', nn.Tanh()),\\n    ('Layer_3_Model     ', nn.Linear(13,9)),\\n    ('Layer_3_Activation', nn.Tanh()),\\n    ('Layer_4_Model     ', nn.Linear(9,4)),\\n    ('Layer_4_Activation', nn.Tanh()),\\n    ('Output_Model      ', nn.Linear(4,1))\\n    ]))\\n\""
      ]
     },
     "execution_count": 3,
     "metadata": {},
     "output_type": "execute_result"
    }
   ],
   "source": [
    "class Harmon_Neural_Net(nn.Module):\n",
    "    def __init__(self):\n",
    "        super().__init__()\n",
    "        self.lin = nn.Linear(4,16)\n",
    "        self.l1 = nn.Linear(16,13)\n",
    "        self.l2 = nn.Linear(13,9)\n",
    "        self.l3 = nn.Linear(9,4)\n",
    "        self.lout = nn.Linear(4,1)\n",
    "        \n",
    "    def forward(self, x):\n",
    "        out = torch.tanh(self.lin(x))\n",
    "        out = torch.tanh(self.l1(out))\n",
    "        out = torch.tanh(self.l2(out))\n",
    "        out = torch.tanh(self.l3(out))\n",
    "        return self.lout(out)\n",
    "\n",
    "\"\"\"\n",
    "neural_net = nn.Sequential(OrderedDict([\n",
    "    ('Layer_1_Model     ', nn.Linear(4,16)),\n",
    "    ('Layer_1_Activation', nn.Tanh()),\n",
    "    ('Layer_2_Model     ', nn.Linear(16,13)),\n",
    "    ('Layer_2_Activation', nn.Tanh()),\n",
    "    ('Layer_3_Model     ', nn.Linear(13,9)),\n",
    "    ('Layer_3_Activation', nn.Tanh()),\n",
    "    ('Layer_4_Model     ', nn.Linear(9,4)),\n",
    "    ('Layer_4_Activation', nn.Tanh()),\n",
    "    ('Output_Model      ', nn.Linear(4,1))\n",
    "    ]))\n",
    "\"\"\""
   ]
  },
  {
   "cell_type": "code",
   "execution_count": 4,
   "id": "79b6b6c5",
   "metadata": {},
   "outputs": [],
   "source": [
    "#Normalization Functions\n",
    "\n",
    "def standardize_column(column, colmax, colmin):\n",
    "    return (column - colmin)/(colmax - colmin)\n",
    "\n",
    "def destandardize_column(column, colmax, colmin):\n",
    "    return (column * (colmax - colmin)) + colmin\n",
    "\n",
    "def normalize_column(column, mean, stdev):\n",
    "    return (column-mean)/stdev\n",
    "\n",
    "def denormalize_column(column, mean, stdev):\n",
    "    return (column-mean)/stdev\n"
   ]
  },
  {
   "cell_type": "code",
   "execution_count": 5,
   "id": "eddd5eaa",
   "metadata": {},
   "outputs": [],
   "source": [
    "#Training Loop Function\n",
    "def training_loop(x_t, y_t, x_v, y_v, model, loss_function, optimizer, epochs, print_interval):\n",
    "    training_loss = []\n",
    "    validation_loss = []\n",
    "    \n",
    "    cost_function = loss_function()\n",
    "    \n",
    "    for epoch in range(1, epochs + 1):\n",
    "        y_p_t = model(x_t)\n",
    "        y_p_v = model(x_v)\n",
    "        \n",
    "        loss_t = cost_function(y_p_t, y_t)\n",
    "        loss_v = cost_function(y_p_v, y_v)\n",
    "        \n",
    "        optimizer.zero_grad()\n",
    "        loss_t.backward()\n",
    "        optimizer.step()\n",
    "        \n",
    "        training_loss.append(float(loss_t))\n",
    "        validation_loss.append(float(loss_v))\n",
    "        \n",
    "        if epoch <= 3 or epoch % print_interval == 0:\n",
    "            print('Epoch {} | Training Loss = {} | Validation Loss = {}'.format(epoch, loss_t, loss_v))\n",
    "    \n",
    "    return training_loss, validation_loss\n"
   ]
  },
  {
   "cell_type": "code",
   "execution_count": 6,
   "id": "f2eeb101",
   "metadata": {},
   "outputs": [],
   "source": [
    "#helper for plotting visualization of training data\n",
    "def training_visual(loss_t, loss_v, model, loss_function, x, y):\n",
    "    cost_function = loss_function()\n",
    "    plt.rcParams[\"figure.figsize\"] = (10,5)\n",
    "    plt.grid()\n",
    "    plt.xlabel('Epochs')\n",
    "    plt.ylabel('MSE Loss')\n",
    "    plt.title('Convergence of Training')\n",
    "    plt.plot(range(1,len(loss_t) + 1),loss_t, color='blue', label='Training Loss')\n",
    "    plt.plot(range(1,len(loss_t) + 1),loss_v, color='red', label='Validation Loss')\n",
    "    plt.legend()\n",
    "    #plt.ylim([0.0,0.25])\n",
    "    plt.show()\n",
    "    print(\"Final Training Loss = {} | Final Validation Loss = {}\".format(loss_t[-1], loss_v[-1]))\n",
    "    \n",
    "    x_n = pd.DataFrame()\n",
    "    x_n['Mobile'] = x_raw['Mobile']\n",
    "    for col in ['Upload', 'Download', 'Latency']:\n",
    "        column = x_raw[col]\n",
    "        #x_n[col] = normalize_column(column, column.mean(), column.std())\n",
    "        x_n[col] = standardize_column(column, column.max(), column.min())\n",
    "        \n",
    "    y_n = pd.DataFrame()\n",
    "    #y_n['GDP Growth'] = normalize_column(y_raw, y_raw.mean(), y_raw.std())\n",
    "    y_n['GDP Growth'] = standardize_column(y_raw, y_raw.max(), y_raw.min())\n",
    "    \n",
    "    y_n = torch.from_numpy(y_n.values).type(torch.float)\n",
    "    x_n = torch.from_numpy(x_n.values).type(torch.float)\n",
    "    \n",
    "    print(\"Model MSE Loss for whole dataset = {}\".format(cost_function(model(x_n) , y_n)))\n",
    "    "
   ]
  },
  {
   "cell_type": "code",
   "execution_count": 7,
   "id": "e8571590",
   "metadata": {},
   "outputs": [],
   "source": [
    "#read the dataset\n",
    "input_dataset = pd.read_csv(\"./cleaned_dataset.csv\")\n",
    "input_dataset\n",
    "\n",
    "#Country is irrelevant\n",
    "input_dataset.pop('Country')\n",
    "input_dataset\n",
    "\n",
    "#Normalization and train-test split\n",
    "y_raw = input_dataset.pop('GDP Growth')\n",
    "y_n = pd.DataFrame()\n",
    "#y_n['GDP Growth'] = normalize_column(y_raw, y_raw.mean(), y_raw.std())\n",
    "y_n['GDP Growth'] = standardize_column(y_raw, y_raw.max(), y_raw.min())\n",
    "x_raw = input_dataset\n",
    "x_n = pd.DataFrame()\n",
    "x_n['Mobile'] = x_raw['Mobile']\n",
    "for col in ['Upload', 'Download', 'Latency']:\n",
    "    column = x_raw[col]\n",
    "    #x_n[col] = normalize_column(column, column.mean(), column.std())\n",
    "    x_n[col] = standardize_column(column, column.max(), column.min())\n"
   ]
  },
  {
   "cell_type": "code",
   "execution_count": 8,
   "id": "f7765d8a",
   "metadata": {},
   "outputs": [],
   "source": [
    "y = torch.from_numpy(y_n.values).type(torch.float)\n",
    "x = torch.from_numpy(x_n.values).type(torch.float)\n",
    "\n",
    "#Train/Test Split\n",
    "validation_percent = 0.2\n",
    "split = int(validation_percent * x.shape[0])\n",
    "shuffle_index = torch.randperm(x.shape[0])\n",
    "index_t = shuffle_index[:-split]\n",
    "index_v = shuffle_index[-split:]\n",
    "x_t = x[index_t]\n",
    "y_t = y[index_t]\n",
    "x_v = x[index_v]\n",
    "y_v = y[index_v]\n"
   ]
  },
  {
   "cell_type": "code",
   "execution_count": 9,
   "id": "cd9ef112",
   "metadata": {},
   "outputs": [
    {
     "data": {
      "text/plain": [
       "Harmon_Neural_Net(\n",
       "  (lin): Linear(in_features=4, out_features=16, bias=True)\n",
       "  (l1): Linear(in_features=16, out_features=13, bias=True)\n",
       "  (l2): Linear(in_features=13, out_features=9, bias=True)\n",
       "  (l3): Linear(in_features=9, out_features=4, bias=True)\n",
       "  (lout): Linear(in_features=4, out_features=1, bias=True)\n",
       ")"
      ]
     },
     "execution_count": 9,
     "metadata": {},
     "output_type": "execute_result"
    }
   ],
   "source": [
    "#Define Constructs\n",
    "epochs = 100000\n",
    "learn_rate = 1e-6\n",
    "neural_net = Harmon_Neural_Net()\n",
    "optimizer = optim.Adam(neural_net.parameters(), lr=learn_rate)\n",
    "loss_function = nn.MSELoss\n",
    "neural_net\n"
   ]
  },
  {
   "cell_type": "code",
   "execution_count": 10,
   "id": "641eb2aa",
   "metadata": {
    "scrolled": true
   },
   "outputs": [
    {
     "name": "stdout",
     "output_type": "stream",
     "text": [
      "Epoch 1 | Training Loss = 0.5709709525108337 | Validation Loss = 0.5508931875228882\n",
      "Epoch 2 | Training Loss = 0.5709553360939026 | Validation Loss = 0.5508778095245361\n",
      "Epoch 3 | Training Loss = 0.5709396004676819 | Validation Loss = 0.5508624315261841\n",
      "Epoch 5000 | Training Loss = 0.49642887711524963 | Validation Loss = 0.47752225399017334\n",
      "Epoch 10000 | Training Loss = 0.4267912805080414 | Validation Loss = 0.4090496301651001\n",
      "Epoch 15000 | Training Loss = 0.36193886399269104 | Validation Loss = 0.3453778326511383\n",
      "Epoch 20000 | Training Loss = 0.3007664978504181 | Validation Loss = 0.2854270935058594\n",
      "Epoch 25000 | Training Loss = 0.24174782633781433 | Validation Loss = 0.22773323953151703\n",
      "Epoch 30000 | Training Loss = 0.18608012795448303 | Validation Loss = 0.1734723448753357\n",
      "Epoch 35000 | Training Loss = 0.13574077188968658 | Validation Loss = 0.12463453412055969\n",
      "Epoch 40000 | Training Loss = 0.09271881729364395 | Validation Loss = 0.083171546459198\n",
      "Epoch 45000 | Training Loss = 0.058285102248191833 | Validation Loss = 0.0503181554377079\n",
      "Epoch 50000 | Training Loss = 0.03325682878494263 | Validation Loss = 0.026844358071684837\n",
      "Epoch 55000 | Training Loss = 0.017631156370043755 | Validation Loss = 0.0126944649964571\n",
      "Epoch 60000 | Training Loss = 0.010543277487158775 | Validation Loss = 0.006910724565386772\n",
      "Epoch 65000 | Training Loss = 0.009373302571475506 | Validation Loss = 0.006463028956204653\n",
      "Epoch 70000 | Training Loss = 0.009282848797738552 | Validation Loss = 0.006327058654278517\n",
      "Epoch 75000 | Training Loss = 0.00921325758099556 | Validation Loss = 0.006185171660035849\n",
      "Epoch 80000 | Training Loss = 0.009183082729578018 | Validation Loss = 0.0060959625989198685\n",
      "Epoch 85000 | Training Loss = 0.009174820967018604 | Validation Loss = 0.006063531152904034\n",
      "Epoch 90000 | Training Loss = 0.009169855155050755 | Validation Loss = 0.006060272455215454\n",
      "Epoch 95000 | Training Loss = 0.009165775030851364 | Validation Loss = 0.0060591744258999825\n",
      "Epoch 100000 | Training Loss = 0.00916197057813406 | Validation Loss = 0.006058106664568186\n",
      "Wall time: 3min 34s\n"
     ]
    }
   ],
   "source": [
    "%%time\n",
    "#Perform the Training\n",
    "loss_t, loss_v = training_loop(\n",
    "    epochs = epochs,\n",
    "    optimizer = optimizer,\n",
    "    model = neural_net,\n",
    "    loss_function = nn.MSELoss,\n",
    "    x_t = x_t,\n",
    "    x_v = x_v,\n",
    "    y_t = y_t,\n",
    "    y_v = y_v,\n",
    "    print_interval = epochs/20)"
   ]
  },
  {
   "cell_type": "code",
   "execution_count": 11,
   "id": "ad1c3ffd",
   "metadata": {},
   "outputs": [
    {
     "data": {
      "image/png": "[encoded data removed]",
      "text/plain": [
       "<Figure size 720x360 with 1 Axes>"
      ]
     },
     "metadata": {
      "needs_background": "light"
     },
     "output_type": "display_data"
    },
    {
     "name": "stdout",
     "output_type": "stream",
     "text": [
      "Final Training Loss = 0.00916197057813406 | Final Validation Loss = 0.006058106664568186\n",
      "Model MSE Loss for whole dataset = 0.008541197516024113\n"
     ]
    }
   ],
   "source": [
    "#Visualize the training\n",
    "training_visual(\n",
    "    loss_t = loss_t,\n",
    "    loss_v = loss_v,\n",
    "    model = neural_net,\n",
    "    loss_function = nn.MSELoss,\n",
    "    x = x_raw,\n",
    "    y = y_raw)\n"
   ]
  },
  {
   "cell_type": "code",
   "execution_count": 12,
   "id": "ce29c1cb",
   "metadata": {},
   "outputs": [],
   "source": [
    "#save the model\n",
    "filename = \"Harmon_Final_model.pt\"\n",
    "torch.save(neural_net.state_dict(),\"./\"+filename)\n"
   ]
  },
  {
   "cell_type": "code",
   "execution_count": null,
   "id": "75bd1844",
   "metadata": {},
   "outputs": [],
   "source": []
  }
 ],
 "metadata": {
  "kernelspec": {
   "display_name": "Python 3 (ipykernel)",
   "language": "python",
   "name": "python3"
  },
  "language_info": {
   "codemirror_mode": {
    "name": "ipython",
    "version": 3
   },
   "file_extension": ".py",
   "mimetype": "text/x-python",
   "name": "python",
   "nbconvert_exporter": "python",
   "pygments_lexer": "ipython3",
   "version": "3.9.12"
  }
 },
 "nbformat": 4,
 "nbformat_minor": 5
}
