{
 "cells": [
  {
   "cell_type": "code",
   "execution_count": null,
   "id": "0dcf78f4",
   "metadata": {},
   "outputs": [],
   "source": [
    "\"\"\"\n",
    "ECGR 5105 - Intro to Machine Learning\n",
    "Final Project\n",
    "Projection of GDP Growth in Conjunction with Internet Accessibility\n",
    "Phillip Harmon - pharmon@uncc.edu\n",
    "\"\"\";\n"
   ]
  },
  {
   "cell_type": "code",
   "execution_count": 11,
   "id": "44e97a45",
   "metadata": {},
   "outputs": [],
   "source": [
    "import numpy as np\n",
    "import matplotlib.pyplot as plt\n",
    "import pandas as pd\n",
    "import torch\n",
    "from torch import optim, nn\n",
    "from collections import OrderedDict\n"
   ]
  },
  {
   "cell_type": "code",
   "execution_count": 12,
   "id": "eddd5eaa",
   "metadata": {},
   "outputs": [],
   "source": [
    "#Training Loop Function\n",
    "def training_loop(x_t, y_t, x_v, y_v, model, loss_function, optimizer, epochs):\n",
    "    training_loss = []\n",
    "    validation_loss = []\n",
    "    \n",
    "    for epoch in range(1, epochs + 1):\n",
    "        \n",
    "        loss_t = loss_function( model(x_t), y_t)\n",
    "        loss_v = loss_function( model(x_v), y_v)\n",
    "        \n",
    "        optimizer.zero_grad()\n",
    "        loss_t.backward()\n",
    "        optimizer.step()\n",
    "        \n",
    "        training_loss.append(float(loss_t))\n",
    "        validation_loss.append(float(loss_v))\n",
    "        \n",
    "        if epoch <= 3 or epoch % 50 == 0:\n",
    "            print('Epoch {} | Training Loss = {} | Validation Loss = {}'.format(epoch, loss_t, loss_v))\n",
    "    \n",
    "    return training_loss, validation_loss\n"
   ]
  },
  {
   "cell_type": "code",
   "execution_count": 13,
   "id": "f2eeb101",
   "metadata": {},
   "outputs": [],
   "source": [
    "#helper for plotting visualization of training data\n",
    "def training_visual(loss_t, loss_v, model, loss_function, x, y):\n",
    "    cost_function = loss_function()\n",
    "    plt.rcParams[\"figure.figsize\"] = (10,5)\n",
    "    plt.grid()\n",
    "    plt.xlabel('Epochs')\n",
    "    plt.ylabel('MSE Loss')\n",
    "    plt.title('Convergence of Training')\n",
    "    plt.plot(range(1,len(loss_t) + 1),loss_t, color='blue', label='Training Loss')\n",
    "    plt.plot(range(1,len(loss_t) + 1),loss_v, color='red', label='Validation Loss')\n",
    "    plt.legend()\n",
    "    plt.ylim([0.0,0.25])\n",
    "    plt.show()\n",
    "    print(\"Final Training Loss = {} | Final Validation Loss = {}\".format(loss_t[-1], loss_v[-1]))\n",
    "    \n",
    "    x_n = normalize(x, x.max(0,keepdim=True)[0], x.min(0,keepdim=True)[0])\n",
    "    y_n = normalize(y, y.max(0,keepdim=True)[0], y.min(0,keepdim=True)[0])\n",
    "    print(\"Model MSE Loss for whole dataset = {}\".format(cost_function(model(x_n) , y_n)))\n",
    "    "
   ]
  },
  {
   "cell_type": "code",
   "execution_count": 14,
   "id": "8f88080d",
   "metadata": {},
   "outputs": [],
   "source": [
    "#Normalization Functions\n",
    "def normalize(x, xmax, xmin):\n",
    "    return (x - xmin) / (xmax - xmin)\n",
    "\n",
    "def denormalize(x, xmax, xmin):\n",
    "    return (x * (xmax - xmin)) + xmin\n"
   ]
  },
  {
   "cell_type": "code",
   "execution_count": 17,
   "id": "cd9ef112",
   "metadata": {},
   "outputs": [],
   "source": [
    "#Define Constructs\n",
    "epochs = 200\n",
    "learn_rate = 1e-3\n",
    "neural_net = nn.Sequential(OrderedDict([\n",
    "    ('Layer_1_Model', nn.Linear(5,8)),\n",
    "    ('Layer_1_Activation', nn.Tanh()),\n",
    "    ('Layer_2_Model', nn.Linear(5,8)),\n",
    "    ('Layer_2_Activation', nn.Tanh()),\n",
    "    ('Layer_3_Model', nn.Linear(5,8)),\n",
    "    ('Layer_3_Activation', nn.Tanh()),\n",
    "    ('Output_Model', nn.Linear(8,1))\n",
    "    ]))\n",
    "optimizer = optim.Adam(neural_net.parameters(), lr=learn_rate)\n",
    "loss_function = nn.MSELoss\n"
   ]
  },
  {
   "cell_type": "code",
   "execution_count": null,
   "id": "641eb2aa",
   "metadata": {},
   "outputs": [],
   "source": [
    "%%time\n",
    "#Perform the Training\n",
    "loss_t, loss_v = training_loop(\n",
    "    epochs = epochs,\n",
    "    optimizer = optimizer,\n",
    "    model = neural_net,\n",
    "    loss_function = nn.MSELoss,\n",
    "    x_t = x_t,\n",
    "    x_v = x_v,\n",
    "    y_t = y_t,\n",
    "    y_v = y_v)"
   ]
  }
 ],
 "metadata": {
  "kernelspec": {
   "display_name": "Python 3 (ipykernel)",
   "language": "python",
   "name": "python3"
  },
  "language_info": {
   "codemirror_mode": {
    "name": "ipython",
    "version": 3
   },
   "file_extension": ".py",
   "mimetype": "text/x-python",
   "name": "python",
   "nbconvert_exporter": "python",
   "pygments_lexer": "ipython3",
   "version": "3.9.12"
  }
 },
 "nbformat": 4,
 "nbformat_minor": 5
}
