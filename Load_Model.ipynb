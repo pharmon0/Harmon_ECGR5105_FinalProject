{
 "cells": [
  {
   "cell_type": "code",
   "execution_count": 1,
   "id": "37582a8f",
   "metadata": {},
   "outputs": [],
   "source": [
    "import numpy as np\n",
    "import matplotlib.pyplot as plt\n",
    "import pandas as pd\n",
    "import torch\n",
    "from sklearn.preprocessing import MinMaxScaler, StandardScaler\n",
    "from torch import optim, nn\n",
    "from collections import OrderedDict\n"
   ]
  },
  {
   "cell_type": "code",
   "execution_count": 2,
   "id": "20f34e9c",
   "metadata": {},
   "outputs": [],
   "source": [
    "class Harmon_Neural_Net(nn.Module):\n",
    "    def __init__(self):\n",
    "        super().__init__()\n",
    "        self.lin = nn.Linear(4,16)\n",
    "        self.l1 = nn.Linear(16,13)\n",
    "        self.l2 = nn.Linear(13,9)\n",
    "        self.l3 = nn.Linear(9,4)\n",
    "        self.lout = nn.Linear(4,1)\n",
    "        \n",
    "    def forward(self, x):\n",
    "        out = torch.tanh(self.lin(x))\n",
    "        out = torch.tanh(self.l1(out))\n",
    "        out = torch.tanh(self.l2(out))\n",
    "        out = torch.tanh(self.l3(out))\n",
    "        return self.lout(out)\n",
    "    "
   ]
  },
  {
   "cell_type": "code",
   "execution_count": 3,
   "id": "0f922065",
   "metadata": {},
   "outputs": [
    {
     "data": {
      "text/plain": [
       "Harmon_Neural_Net(\n",
       "  (lin): Linear(in_features=4, out_features=16, bias=True)\n",
       "  (l1): Linear(in_features=16, out_features=13, bias=True)\n",
       "  (l2): Linear(in_features=13, out_features=9, bias=True)\n",
       "  (l3): Linear(in_features=9, out_features=4, bias=True)\n",
       "  (lout): Linear(in_features=4, out_features=1, bias=True)\n",
       ")"
      ]
     },
     "execution_count": 3,
     "metadata": {},
     "output_type": "execute_result"
    }
   ],
   "source": [
    "#load the model\n",
    "filename = \"Harmon_Final_model.pt\"\n",
    "loaded_model = Harmon_Neural_Net()\n",
    "loaded_model.load_state_dict(torch.load(\"./\"+filename))\n",
    "loaded_model\n"
   ]
  },
  {
   "cell_type": "code",
   "execution_count": 50,
   "id": "9bcbbad5",
   "metadata": {},
   "outputs": [
    {
     "data": {
      "text/html": [
       "<div>\n",
       "<style scoped>\n",
       "    .dataframe tbody tr th:only-of-type {\n",
       "        vertical-align: middle;\n",
       "    }\n",
       "\n",
       "    .dataframe tbody tr th {\n",
       "        vertical-align: top;\n",
       "    }\n",
       "\n",
       "    .dataframe thead th {\n",
       "        text-align: right;\n",
       "    }\n",
       "</style>\n",
       "<table border=\"1\" class=\"dataframe\">\n",
       "  <thead>\n",
       "    <tr style=\"text-align: right;\">\n",
       "      <th></th>\n",
       "      <th>Mobile</th>\n",
       "      <th>Country</th>\n",
       "      <th>Upload</th>\n",
       "      <th>Download</th>\n",
       "      <th>Latency</th>\n",
       "      <th>GDP Growth</th>\n",
       "    </tr>\n",
       "  </thead>\n",
       "  <tbody>\n",
       "    <tr>\n",
       "      <th>0</th>\n",
       "      <td>0.0</td>\n",
       "      <td>Afghanistan</td>\n",
       "      <td>428.0</td>\n",
       "      <td>356.0</td>\n",
       "      <td>-20.0</td>\n",
       "      <td>-1.934778</td>\n",
       "    </tr>\n",
       "    <tr>\n",
       "      <th>1</th>\n",
       "      <td>0.0</td>\n",
       "      <td>Albania</td>\n",
       "      <td>5327.0</td>\n",
       "      <td>7265.0</td>\n",
       "      <td>-6.0</td>\n",
       "      <td>-3.311239</td>\n",
       "    </tr>\n",
       "    <tr>\n",
       "      <th>2</th>\n",
       "      <td>0.0</td>\n",
       "      <td>Algeria</td>\n",
       "      <td>-133.0</td>\n",
       "      <td>1447.0</td>\n",
       "      <td>-15.0</td>\n",
       "      <td>-5.480992</td>\n",
       "    </tr>\n",
       "    <tr>\n",
       "      <th>3</th>\n",
       "      <td>0.0</td>\n",
       "      <td>Andorra</td>\n",
       "      <td>55214.0</td>\n",
       "      <td>57985.0</td>\n",
       "      <td>3.0</td>\n",
       "      <td>-11.956058</td>\n",
       "    </tr>\n",
       "    <tr>\n",
       "      <th>4</th>\n",
       "      <td>0.0</td>\n",
       "      <td>Angola</td>\n",
       "      <td>439.0</td>\n",
       "      <td>-742.0</td>\n",
       "      <td>15.0</td>\n",
       "      <td>-4.040510</td>\n",
       "    </tr>\n",
       "    <tr>\n",
       "      <th>...</th>\n",
       "      <td>...</td>\n",
       "      <td>...</td>\n",
       "      <td>...</td>\n",
       "      <td>...</td>\n",
       "      <td>...</td>\n",
       "      <td>...</td>\n",
       "    </tr>\n",
       "    <tr>\n",
       "      <th>1215</th>\n",
       "      <td>1.0</td>\n",
       "      <td>United Kingdom</td>\n",
       "      <td>-3234.0</td>\n",
       "      <td>-27993.0</td>\n",
       "      <td>-1.0</td>\n",
       "      <td>-9.790240</td>\n",
       "    </tr>\n",
       "    <tr>\n",
       "      <th>1216</th>\n",
       "      <td>1.0</td>\n",
       "      <td>United States</td>\n",
       "      <td>-3934.0</td>\n",
       "      <td>-16948.0</td>\n",
       "      <td>8.0</td>\n",
       "      <td>-3.486140</td>\n",
       "    </tr>\n",
       "    <tr>\n",
       "      <th>1217</th>\n",
       "      <td>1.0</td>\n",
       "      <td>Uruguay</td>\n",
       "      <td>-2676.0</td>\n",
       "      <td>-11680.0</td>\n",
       "      <td>-4.0</td>\n",
       "      <td>-5.858721</td>\n",
       "    </tr>\n",
       "    <tr>\n",
       "      <th>1218</th>\n",
       "      <td>1.0</td>\n",
       "      <td>Uzbekistan</td>\n",
       "      <td>3270.0</td>\n",
       "      <td>17540.0</td>\n",
       "      <td>-12.0</td>\n",
       "      <td>1.647797</td>\n",
       "    </tr>\n",
       "    <tr>\n",
       "      <th>1219</th>\n",
       "      <td>1.0</td>\n",
       "      <td>Vanuatu</td>\n",
       "      <td>-4920.0</td>\n",
       "      <td>-12248.0</td>\n",
       "      <td>24.0</td>\n",
       "      <td>-9.235328</td>\n",
       "    </tr>\n",
       "  </tbody>\n",
       "</table>\n",
       "<p>1220 rows × 6 columns</p>\n",
       "</div>"
      ],
      "text/plain": [
       "      Mobile         Country   Upload  Download  Latency  GDP Growth\n",
       "0        0.0     Afghanistan    428.0     356.0    -20.0   -1.934778\n",
       "1        0.0         Albania   5327.0    7265.0     -6.0   -3.311239\n",
       "2        0.0         Algeria   -133.0    1447.0    -15.0   -5.480992\n",
       "3        0.0         Andorra  55214.0   57985.0      3.0  -11.956058\n",
       "4        0.0          Angola    439.0    -742.0     15.0   -4.040510\n",
       "...      ...             ...      ...       ...      ...         ...\n",
       "1215     1.0  United Kingdom  -3234.0  -27993.0     -1.0   -9.790240\n",
       "1216     1.0   United States  -3934.0  -16948.0      8.0   -3.486140\n",
       "1217     1.0         Uruguay  -2676.0  -11680.0     -4.0   -5.858721\n",
       "1218     1.0      Uzbekistan   3270.0   17540.0    -12.0    1.647797\n",
       "1219     1.0         Vanuatu  -4920.0  -12248.0     24.0   -9.235328\n",
       "\n",
       "[1220 rows x 6 columns]"
      ]
     },
     "execution_count": 50,
     "metadata": {},
     "output_type": "execute_result"
    }
   ],
   "source": [
    "#read the dataset\n",
    "input_dataset = pd.read_csv(\"./cleaned_dataset.csv\")\n",
    "input_dataset.pop('Country')\n",
    "y = torch.from_numpy(input_dataset.pop('GDP Growth').values).type(torch.float)\n",
    "x = torch.from_numpy(input_dataset.values).type(torch.float)\n",
    "pd.read_csv(\"./cleaned_dataset.csv\")\n"
   ]
  },
  {
   "cell_type": "code",
   "execution_count": 57,
   "id": "e5af3891",
   "metadata": {
    "scrolled": false
   },
   "outputs": [
    {
     "data": {
      "image/png": "[encoded data removed]",
      "text/plain": [
       "<Figure size 720x360 with 1 Axes>"
      ]
     },
     "metadata": {
      "needs_background": "light"
     },
     "output_type": "display_data"
    }
   ],
   "source": [
    "x_lin = torch.zeros((200,4))\n",
    "upmax = max(x[:,1])\n",
    "upmin = min(x[:,1])\n",
    "x_lin[:,1] = torch.from_numpy(np.arange( upmin, upmax, (upmax - upmin) / 200 ))\n",
    "y_lin = loaded_model(x_lin)\n",
    "x_lin_mobile = x_lin.clone()\n",
    "x_lin_mobile[:,0] = torch.ones((200))\n",
    "y_lin_mobile = loaded_model(x_lin_mobile)\n",
    "\n",
    "plt.rcParams[\"figure.figsize\"] = (10,5)\n",
    "plt.grid()\n",
    "plt.xlabel('Change in Upload Speed')\n",
    "plt.ylabel('Change in GDP')\n",
    "plt.title('Independent effect of a change in upload speed on GDP')\n",
    "plt.plot(x_lin[:,1].detach(), y_lin.detach(), color='blue', label='Fixed Model Curve')\n",
    "plt.plot(x_lin_mobile[:,1].detach(), y_lin_mobile.detach(), color='red', label='Mobile Model Curve')\n",
    "plt.legend()\n",
    "plt.show()\n"
   ]
  },
  {
   "cell_type": "code",
   "execution_count": 59,
   "id": "31e43899",
   "metadata": {},
   "outputs": [
    {
     "data": {
      "image/png": "[encoded data removed]",
      "text/plain": [
       "<Figure size 720x360 with 1 Axes>"
      ]
     },
     "metadata": {
      "needs_background": "light"
     },
     "output_type": "display_data"
    }
   ],
   "source": [
    "x_lin = torch.zeros((200,4))\n",
    "upmax = max(x[:,2])\n",
    "upmin = min(x[:,2])\n",
    "x_lin[:,2] = torch.from_numpy(np.arange( upmin, upmax, (upmax - upmin) / 200 ))\n",
    "y_lin = loaded_model(x_lin)\n",
    "x_lin_mobile = x_lin.clone()\n",
    "x_lin_mobile[:,0] = torch.ones((200))\n",
    "y_lin_mobile = loaded_model(x_lin_mobile)\n",
    "\n",
    "plt.rcParams[\"figure.figsize\"] = (10,5)\n",
    "plt.grid()\n",
    "plt.xlabel('Change in Download Speed')\n",
    "plt.ylabel('Change in GDP')\n",
    "plt.title('Independent effect of a change in download speed on GDP')\n",
    "plt.plot(x_lin[:,2].detach(), y_lin.detach(), color='blue', label='Model Curve')\n",
    "plt.plot(x_lin_mobile[:,2].detach(), y_lin_mobile.detach(), color='red', label='Mobile Model Curve')\n",
    "plt.legend()\n",
    "plt.show()\n"
   ]
  },
  {
   "cell_type": "code",
   "execution_count": 61,
   "id": "7662d5d5",
   "metadata": {},
   "outputs": [
    {
     "data": {
      "image/png": "[encoded data removed]",
      "text/plain": [
       "<Figure size 720x360 with 1 Axes>"
      ]
     },
     "metadata": {
      "needs_background": "light"
     },
     "output_type": "display_data"
    }
   ],
   "source": [
    "x_lin = torch.zeros((200,4))\n",
    "upmax = max(x[:,3])\n",
    "upmin = min(x[:,3])\n",
    "x_lin[:,3] = torch.from_numpy(np.arange( upmin, upmax, (upmax - upmin) / 200 ))\n",
    "y_lin = loaded_model(x_lin)\n",
    "x_lin_mobile = x_lin.clone()\n",
    "x_lin_mobile[:,0] = torch.ones((200))\n",
    "y_lin_mobile = loaded_model(x_lin_mobile)\n",
    "\n",
    "plt.rcParams[\"figure.figsize\"] = (10,5)\n",
    "plt.grid()\n",
    "plt.xlabel('Change in Latency')\n",
    "plt.ylabel('Change in GDP')\n",
    "plt.title('Independent effect of a change in latency on GDP')\n",
    "plt.plot(x_lin[:,3].detach(), y_lin.detach(), color='blue', label='Model Curve')\n",
    "plt.plot(x_lin_mobile[:,3].detach(), y_lin_mobile.detach(), color='red', label='Mobile Model Curve')\n",
    "plt.legend()\n",
    "plt.show()\n"
   ]
  },
  {
   "cell_type": "code",
   "execution_count": null,
   "id": "8844349e",
   "metadata": {},
   "outputs": [],
   "source": []
  }
 ],
 "metadata": {
  "kernelspec": {
   "display_name": "Python 3 (ipykernel)",
   "language": "python",
   "name": "python3"
  },
  "language_info": {
   "codemirror_mode": {
    "name": "ipython",
    "version": 3
   },
   "file_extension": ".py",
   "mimetype": "text/x-python",
   "name": "python",
   "nbconvert_exporter": "python",
   "pygments_lexer": "ipython3",
   "version": "3.9.12"
  }
 },
 "nbformat": 4,
 "nbformat_minor": 5
}
